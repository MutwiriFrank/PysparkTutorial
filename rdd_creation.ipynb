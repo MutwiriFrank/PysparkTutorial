{
 "cells": [
  {
   "cell_type": "code",
   "execution_count": 2,
   "id": "0114d3e5-069d-477e-97d8-fba4d332e932",
   "metadata": {},
   "outputs": [],
   "source": [
    "from pyspark import SparkContext, SQLContext, SparkConf, StorageLevel\n",
    "\n"
   ]
  },
  {
   "cell_type": "code",
   "execution_count": 5,
   "id": "066deef1-12a4-4615-9a44-5a7a6a0287de",
   "metadata": {},
   "outputs": [],
   "source": [
    "\n",
    "SparkContext.getOrCreate().stop()\n",
    "\n",
    "conf = SparkConf().setAppName(\"003-rdd-creation\").setMaster(\"local[3]\")\n",
    "sc=SparkContext(conf=conf)"
   ]
  },
  {
   "cell_type": "code",
   "execution_count": 10,
   "id": "73921188-5b4e-4ef2-9333-c0b3e1e12bc1",
   "metadata": {},
   "outputs": [],
   "source": [
    "# read csv file with 4 partitions and then repartition to 6\n",
    "survey_df = sc.textFile(\"/home/mutwiri/hadoop/spark/survey.csv\", 1 ).repartition(2)\n"
   ]
  },
  {
   "cell_type": "code",
   "execution_count": 18,
   "id": "a93aea3a-2a72-4bcc-b562-6274c81ae8a5",
   "metadata": {},
   "outputs": [],
   "source": [
    "a = sc.parallelize(range(10),4)"
   ]
  },
  {
   "cell_type": "code",
   "execution_count": 19,
   "id": "575552bd-2a4e-4b87-b785-accf10a00502",
   "metadata": {},
   "outputs": [
    {
     "data": {
      "text/plain": [
       "[0, 1, 2, 3, 4, 5, 6, 7, 8, 9]"
      ]
     },
     "execution_count": 19,
     "metadata": {},
     "output_type": "execute_result"
    }
   ],
   "source": [
    "a.collect()"
   ]
  },
  {
   "cell_type": "code",
   "execution_count": 20,
   "id": "af932be3-b4b9-4789-8f4d-cecab27e19c9",
   "metadata": {},
   "outputs": [
    {
     "data": {
      "text/plain": [
       "4"
      ]
     },
     "execution_count": 20,
     "metadata": {},
     "output_type": "execute_result"
    }
   ],
   "source": [
    "a.getNumPartitions()"
   ]
  },
  {
   "cell_type": "code",
   "execution_count": 22,
   "id": "c5dd6dc1-29e0-4329-99f2-f565bbbe2afd",
   "metadata": {},
   "outputs": [
    {
     "data": {
      "text/plain": [
       "CoalescedRDD[20] at coalesce at NativeMethodAccessorImpl.java:0"
      ]
     },
     "execution_count": 22,
     "metadata": {},
     "output_type": "execute_result"
    }
   ],
   "source": [
    "a.coalesce(2)"
   ]
  },
  {
   "cell_type": "code",
   "execution_count": 23,
   "id": "72cf4888-7b2e-4224-a789-f5a639026349",
   "metadata": {},
   "outputs": [
    {
     "data": {
      "text/plain": [
       "4"
      ]
     },
     "execution_count": 23,
     "metadata": {},
     "output_type": "execute_result"
    }
   ],
   "source": [
    "a.getNumPartitions()"
   ]
  },
  {
   "cell_type": "code",
   "execution_count": 24,
   "id": "6d94129c-16a7-4e08-a911-c28fafa1fb32",
   "metadata": {},
   "outputs": [
    {
     "data": {
      "text/plain": [
       "MapPartitionsRDD[25] at coalesce at NativeMethodAccessorImpl.java:0"
      ]
     },
     "execution_count": 24,
     "metadata": {},
     "output_type": "execute_result"
    }
   ],
   "source": [
    "a.repartition(4)"
   ]
  },
  {
   "cell_type": "code",
   "execution_count": 25,
   "id": "ef5e43f5-c9ca-4442-8d58-3799d40b1273",
   "metadata": {},
   "outputs": [
    {
     "data": {
      "text/plain": [
       "4"
      ]
     },
     "execution_count": 25,
     "metadata": {},
     "output_type": "execute_result"
    }
   ],
   "source": [
    "a.getNumPartitions()"
   ]
  },
  {
   "cell_type": "code",
   "execution_count": null,
   "id": "2d65405a-b438-4132-90ae-22232f97c201",
   "metadata": {},
   "outputs": [],
   "source": []
  }
 ],
 "metadata": {
  "kernelspec": {
   "display_name": "Python 3 (ipykernel)",
   "language": "python",
   "name": "python3"
  },
  "language_info": {
   "codemirror_mode": {
    "name": "ipython",
    "version": 3
   },
   "file_extension": ".py",
   "mimetype": "text/x-python",
   "name": "python",
   "nbconvert_exporter": "python",
   "pygments_lexer": "ipython3",
   "version": "3.10.12"
  }
 },
 "nbformat": 4,
 "nbformat_minor": 5
}
