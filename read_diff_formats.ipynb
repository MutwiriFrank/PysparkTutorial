{
 "cells": [
  {
   "cell_type": "code",
   "execution_count": 8,
   "id": "cc023ead-c212-424f-9c64-1edb491f63b2",
   "metadata": {},
   "outputs": [],
   "source": [
    "df = spark.read.parquet(\"/home/mutwiri/hadoop/spark/data/yellow_tripdata_2021-01.parquet\")"
   ]
  },
  {
   "cell_type": "code",
   "execution_count": 9,
   "id": "60b72467-6153-485d-8507-4534358dffcc",
   "metadata": {},
   "outputs": [
    {
     "name": "stdout",
     "output_type": "stream",
     "text": [
      "root\n",
      " |-- VendorID: long (nullable = true)\n",
      " |-- tpep_pickup_datetime: timestamp_ntz (nullable = true)\n",
      " |-- tpep_dropoff_datetime: timestamp_ntz (nullable = true)\n",
      " |-- passenger_count: double (nullable = true)\n",
      " |-- trip_distance: double (nullable = true)\n",
      " |-- RatecodeID: double (nullable = true)\n",
      " |-- store_and_fwd_flag: string (nullable = true)\n",
      " |-- PULocationID: long (nullable = true)\n",
      " |-- DOLocationID: long (nullable = true)\n",
      " |-- payment_type: long (nullable = true)\n",
      " |-- fare_amount: double (nullable = true)\n",
      " |-- extra: double (nullable = true)\n",
      " |-- mta_tax: double (nullable = true)\n",
      " |-- tip_amount: double (nullable = true)\n",
      " |-- tolls_amount: double (nullable = true)\n",
      " |-- improvement_surcharge: double (nullable = true)\n",
      " |-- total_amount: double (nullable = true)\n",
      " |-- congestion_surcharge: double (nullable = true)\n",
      " |-- airport_fee: double (nullable = true)\n",
      "\n"
     ]
    }
   ],
   "source": [
    "df.printSchema()"
   ]
  },
  {
   "cell_type": "code",
   "execution_count": 10,
   "id": "96dd91a0-6039-43aa-98e2-6c8e4278918b",
   "metadata": {},
   "outputs": [
    {
     "data": {
      "text/plain": [
       "[Row(VendorID=1, tpep_pickup_datetime=datetime.datetime(2021, 1, 1, 0, 30, 10), tpep_dropoff_datetime=datetime.datetime(2021, 1, 1, 0, 36, 12), passenger_count=1.0, trip_distance=2.1, RatecodeID=1.0, store_and_fwd_flag='N', PULocationID=142, DOLocationID=43, payment_type=2, fare_amount=8.0, extra=3.0, mta_tax=0.5, tip_amount=0.0, tolls_amount=0.0, improvement_surcharge=0.3, total_amount=11.8, congestion_surcharge=2.5, airport_fee=None),\n",
       " Row(VendorID=1, tpep_pickup_datetime=datetime.datetime(2021, 1, 1, 0, 51, 20), tpep_dropoff_datetime=datetime.datetime(2021, 1, 1, 0, 52, 19), passenger_count=1.0, trip_distance=0.2, RatecodeID=1.0, store_and_fwd_flag='N', PULocationID=238, DOLocationID=151, payment_type=2, fare_amount=3.0, extra=0.5, mta_tax=0.5, tip_amount=0.0, tolls_amount=0.0, improvement_surcharge=0.3, total_amount=4.3, congestion_surcharge=0.0, airport_fee=None)]"
      ]
     },
     "execution_count": 10,
     "metadata": {},
     "output_type": "execute_result"
    }
   ],
   "source": [
    "df.head(2)"
   ]
  },
  {
   "cell_type": "code",
   "execution_count": 11,
   "id": "4cee2771-24e1-4921-af6d-eb904ffd8c1b",
   "metadata": {},
   "outputs": [
    {
     "name": "stdout",
     "output_type": "stream",
     "text": [
      "+--------+---------------+-------------+----------+------------+\n",
      "|VendorID|passenger_count|trip_distance|tip_amount|total_amount|\n",
      "+--------+---------------+-------------+----------+------------+\n",
      "|       1|            1.0|          2.1|       0.0|        11.8|\n",
      "|       1|            1.0|          0.2|       0.0|         4.3|\n",
      "|       1|            1.0|         14.7|      8.65|       51.95|\n",
      "|       1|            0.0|         10.6|      6.05|       36.35|\n",
      "|       2|            1.0|         4.94|      4.06|       24.36|\n",
      "|       1|            1.0|          1.6|      2.35|       14.15|\n",
      "|       1|            1.0|          4.1|       0.0|        17.3|\n",
      "|       1|            1.0|          5.7|       0.0|        21.8|\n",
      "|       1|            1.0|          9.1|       0.0|        28.8|\n",
      "|       1|            2.0|          2.7|      3.15|       18.95|\n",
      "|       2|            3.0|         6.11|       0.0|        24.3|\n",
      "|       2|            2.0|         1.21|      2.49|       10.79|\n",
      "|       1|            2.0|          7.4|       0.0|       33.92|\n",
      "|       2|            5.0|          1.7|      2.36|       14.16|\n",
      "|       2|            5.0|         0.81|       0.0|         8.3|\n",
      "|       2|            1.0|         1.01|       1.0|        10.3|\n",
      "|       2|            1.0|         0.73|      2.79|       12.09|\n",
      "|       2|            1.0|         1.17|      2.06|       12.36|\n",
      "|       2|            1.0|         0.78|      1.66|        9.96|\n",
      "|       2|            2.0|         1.66|       0.0|        12.3|\n",
      "+--------+---------------+-------------+----------+------------+\n",
      "only showing top 20 rows\n",
      "\n"
     ]
    }
   ],
   "source": [
    "taxi = df.select(\"VendorID\", \"passenger_count\", \"trip_distance\", \"tip_amount\", \"total_amount\" ).show()"
   ]
  },
  {
   "cell_type": "code",
   "execution_count": 16,
   "id": "99a9e6f1-a6ed-4ce3-b2db-f2ae9fd2d940",
   "metadata": {},
   "outputs": [
    {
     "data": {
      "text/plain": [
       "3"
      ]
     },
     "execution_count": 16,
     "metadata": {},
     "output_type": "execute_result"
    }
   ],
   "source": [
    "df.select(\"VendorID\").distinct().count()"
   ]
  },
  {
   "cell_type": "code",
   "execution_count": 28,
   "id": "8fd3b3af-1850-463b-bb1e-4efa10b2becc",
   "metadata": {},
   "outputs": [],
   "source": [
    "best_paid_vendor_1_trips = df.filter(df[\"VendorID\"]==1).\\\n",
    "                        filter(df[\"passenger_count\"]> 0).\\\n",
    "                        orderBy(df[\"total_amount\"].desc()).\\\n",
    "                        select(\"VendorID\", \"passenger_count\", \"trip_distance\", \"tip_amount\", \"total_amount\" ). \\\n",
    "                        limit(5)\n"
   ]
  },
  {
   "cell_type": "code",
   "execution_count": 29,
   "id": "4c1aadd9-2bf7-4b72-a2fd-73f0e2e4777f",
   "metadata": {},
   "outputs": [
    {
     "name": "stdout",
     "output_type": "stream",
     "text": [
      "+--------+---------------+-------------+----------+------------+\n",
      "|VendorID|passenger_count|trip_distance|tip_amount|total_amount|\n",
      "+--------+---------------+-------------+----------+------------+\n",
      "|       1|            1.0|        427.7|   1140.44|      2292.4|\n",
      "|       1|            1.0|        267.7|     369.4|      1108.2|\n",
      "|       1|            1.0|          0.0|      0.05|      900.35|\n",
      "|       1|            1.0|        260.5|    149.03|       894.2|\n",
      "|       1|            1.0|        271.4|       0.0|      872.54|\n",
      "+--------+---------------+-------------+----------+------------+\n",
      "\n"
     ]
    }
   ],
   "source": [
    "best_paid_vendor_1_trips.show()"
   ]
  },
  {
   "cell_type": "markdown",
   "id": "0ec42cbb-267e-4db7-9d24-af028c6e7129",
   "metadata": {},
   "source": [
    "### Using UDF"
   ]
  },
  {
   "cell_type": "code",
   "execution_count": 55,
   "id": "d28e2987-50e1-4cfe-bfe7-6db98d6ae5eb",
   "metadata": {},
   "outputs": [],
   "source": [
    "from pyspark.sql.functions import udf, col\n",
    "from pyspark.sql.types import FloatType"
   ]
  },
  {
   "cell_type": "code",
   "execution_count": 56,
   "id": "51a5551d-54fa-455b-934c-d37b636ecefd",
   "metadata": {},
   "outputs": [
    {
     "name": "stdout",
     "output_type": "stream",
     "text": [
      "+--------+---------------+-------------+----------+------------+------------------+\n",
      "|VendorID|passenger_count|trip_distance|tip_amount|total_amount|store_and_fwd_flag|\n",
      "+--------+---------------+-------------+----------+------------+------------------+\n",
      "|       1|            1.0|          2.1|       0.0|        11.8|                 N|\n",
      "|       1|            1.0|          0.2|       0.0|         4.3|                 N|\n",
      "|       1|            1.0|         14.7|      8.65|       51.95|                 N|\n",
      "|       1|            0.0|         10.6|      6.05|       36.35|                 N|\n",
      "|       2|            1.0|         4.94|      4.06|       24.36|                 N|\n",
      "|       1|            1.0|          1.6|      2.35|       14.15|                 N|\n",
      "|       1|            1.0|          4.1|       0.0|        17.3|                 N|\n",
      "|       1|            1.0|          5.7|       0.0|        21.8|                 N|\n",
      "|       1|            1.0|          9.1|       0.0|        28.8|                 N|\n",
      "|       1|            2.0|          2.7|      3.15|       18.95|                 N|\n",
      "|       2|            3.0|         6.11|       0.0|        24.3|                 N|\n",
      "|       2|            2.0|         1.21|      2.49|       10.79|                 N|\n",
      "|       1|            2.0|          7.4|       0.0|       33.92|                 N|\n",
      "|       2|            5.0|          1.7|      2.36|       14.16|                 N|\n",
      "|       2|            5.0|         0.81|       0.0|         8.3|                 N|\n",
      "|       2|            1.0|         1.01|       1.0|        10.3|                 N|\n",
      "|       2|            1.0|         0.73|      2.79|       12.09|                 N|\n",
      "|       2|            1.0|         1.17|      2.06|       12.36|                 N|\n",
      "|       2|            1.0|         0.78|      1.66|        9.96|                 N|\n",
      "|       2|            2.0|         1.66|       0.0|        12.3|                 N|\n",
      "+--------+---------------+-------------+----------+------------+------------------+\n",
      "only showing top 20 rows\n",
      "\n"
     ]
    }
   ],
   "source": [
    "taxi2 = df.select(\"VendorID\", \"passenger_count\", \"trip_distance\", \"tip_amount\", \"total_amount\", \"store_and_fwd_flag\" ).show()"
   ]
  },
  {
   "cell_type": "code",
   "execution_count": 57,
   "id": "20bd3f76-b7df-4d93-a2a8-99ca55e13e65",
   "metadata": {},
   "outputs": [],
   "source": [
    "lower = udf(lambda word: word.lower())"
   ]
  },
  {
   "cell_type": "code",
   "execution_count": 58,
   "id": "9eff36e8-ca80-4fe6-946c-fdb5f140dd92",
   "metadata": {},
   "outputs": [
    {
     "name": "stderr",
     "output_type": "stream",
     "text": [
      "24/01/05 11:37:07 WARN SimpleFunctionRegistry: The function tip_percentage replaced a previously registered function.\n"
     ]
    },
    {
     "data": {
      "text/plain": [
       "<function __main__.tip_percentage(tip, total)>"
      ]
     },
     "execution_count": 58,
     "metadata": {},
     "output_type": "execute_result"
    }
   ],
   "source": []
  },
  {
   "cell_type": "code",
   "execution_count": 72,
   "id": "12a25094-e444-4b97-a3b0-91c0f7acf282",
   "metadata": {},
   "outputs": [
    {
     "name": "stderr",
     "output_type": "stream",
     "text": [
      "24/01/05 11:53:27 WARN SimpleFunctionRegistry: The function tip_percentage replaced a previously registered function.\n"
     ]
    }
   ],
   "source": [
    "def tip_percentage(tip, total):\n",
    "    return total/tip\n",
    "\n",
    "spark.udf.register(\"tip_percentage\", tip_percentage, FloatType())\n",
    "\n",
    "taxi_df_with_udf = df.select(\"VendorID\", \"passenger_count\", \"trip_distance\", \"tip_amount\", \"total_amount\",  \\\n",
    "                                lower(\"store_and_fwd_flag\").alias(\"lower_flag\"), \\\n",
    "                                 tip_percentage(col(\"tip_amount\"), col(\"total_amount\") ).alias(\"new\"))"
   ]
  },
  {
   "cell_type": "code",
   "execution_count": 73,
   "id": "b6395513-60f6-451f-8fd6-550cd8d78e5e",
   "metadata": {},
   "outputs": [
    {
     "name": "stdout",
     "output_type": "stream",
     "text": [
      "+--------+---------------+-------------+----------+------------+----------+------------------+\n",
      "|VendorID|passenger_count|trip_distance|tip_amount|total_amount|lower_flag|               new|\n",
      "+--------+---------------+-------------+----------+------------+----------+------------------+\n",
      "|       1|            1.0|          2.1|       0.0|        11.8|         n|              NULL|\n",
      "|       1|            1.0|          0.2|       0.0|         4.3|         n|              NULL|\n",
      "|       1|            1.0|         14.7|      8.65|       51.95|         n| 6.005780346820809|\n",
      "|       1|            0.0|         10.6|      6.05|       36.35|         n| 6.008264462809918|\n",
      "|       2|            1.0|         4.94|      4.06|       24.36|         n|               6.0|\n",
      "|       1|            1.0|          1.6|      2.35|       14.15|         n|6.0212765957446805|\n",
      "|       1|            1.0|          4.1|       0.0|        17.3|         n|              NULL|\n",
      "|       1|            1.0|          5.7|       0.0|        21.8|         n|              NULL|\n",
      "|       1|            1.0|          9.1|       0.0|        28.8|         n|              NULL|\n",
      "|       1|            2.0|          2.7|      3.15|       18.95|         n| 6.015873015873016|\n",
      "|       2|            3.0|         6.11|       0.0|        24.3|         n|              NULL|\n",
      "|       2|            2.0|         1.21|      2.49|       10.79|         n| 4.333333333333333|\n",
      "|       1|            2.0|          7.4|       0.0|       33.92|         n|              NULL|\n",
      "|       2|            5.0|          1.7|      2.36|       14.16|         n|               6.0|\n",
      "|       2|            5.0|         0.81|       0.0|         8.3|         n|              NULL|\n",
      "|       2|            1.0|         1.01|       1.0|        10.3|         n|              10.3|\n",
      "|       2|            1.0|         0.73|      2.79|       12.09|         n| 4.333333333333333|\n",
      "|       2|            1.0|         1.17|      2.06|       12.36|         n|               6.0|\n",
      "|       2|            1.0|         0.78|      1.66|        9.96|         n| 6.000000000000001|\n",
      "|       2|            2.0|         1.66|       0.0|        12.3|         n|              NULL|\n",
      "+--------+---------------+-------------+----------+------------+----------+------------------+\n",
      "only showing top 20 rows\n",
      "\n"
     ]
    }
   ],
   "source": [
    "taxi_df_with_udf.show()"
   ]
  },
  {
   "cell_type": "code",
   "execution_count": null,
   "id": "33297118-e241-4772-971f-e8b7a3561560",
   "metadata": {},
   "outputs": [],
   "source": []
  }
 ],
 "metadata": {
  "kernelspec": {
   "display_name": "Python 3 (ipykernel)",
   "language": "python",
   "name": "python3"
  },
  "language_info": {
   "codemirror_mode": {
    "name": "ipython",
    "version": 3
   },
   "file_extension": ".py",
   "mimetype": "text/x-python",
   "name": "python",
   "nbconvert_exporter": "python",
   "pygments_lexer": "ipython3",
   "version": "3.10.12"
  }
 },
 "nbformat": 4,
 "nbformat_minor": 5
}
