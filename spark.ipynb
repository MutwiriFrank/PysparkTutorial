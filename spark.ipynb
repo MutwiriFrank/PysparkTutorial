{
 "cells": [
  {
   "cell_type": "code",
   "execution_count": 1,
   "id": "5b27aa27-a511-4261-b19a-bd2501633940",
   "metadata": {},
   "outputs": [
    {
     "name": "stdout",
     "output_type": "stream",
     "text": [
      "Defaulting to user installation because normal site-packages is not writeable\n",
      "Requirement already satisfied: matplotlib in /home/mutwiri/.local/lib/python3.10/site-packages (3.8.2)\n",
      "Requirement already satisfied: contourpy>=1.0.1 in /home/mutwiri/.local/lib/python3.10/site-packages (from matplotlib) (1.2.0)\n",
      "Requirement already satisfied: cycler>=0.10 in /home/mutwiri/.local/lib/python3.10/site-packages (from matplotlib) (0.12.1)\n",
      "Requirement already satisfied: fonttools>=4.22.0 in /home/mutwiri/.local/lib/python3.10/site-packages (from matplotlib) (4.47.0)\n",
      "Requirement already satisfied: kiwisolver>=1.3.1 in /home/mutwiri/.local/lib/python3.10/site-packages (from matplotlib) (1.4.5)\n",
      "Requirement already satisfied: numpy<2,>=1.21 in /home/mutwiri/.local/lib/python3.10/site-packages (from matplotlib) (1.25.2)\n",
      "Requirement already satisfied: packaging>=20.0 in /home/mutwiri/.local/lib/python3.10/site-packages (from matplotlib) (23.1)\n",
      "Requirement already satisfied: pillow>=8 in /usr/lib/python3/dist-packages (from matplotlib) (9.0.1)\n",
      "Requirement already satisfied: pyparsing>=2.3.1 in /usr/lib/python3/dist-packages (from matplotlib) (2.4.7)\n",
      "Requirement already satisfied: python-dateutil>=2.7 in /home/mutwiri/.local/lib/python3.10/site-packages (from matplotlib) (2.8.2)\n",
      "Requirement already satisfied: six>=1.5 in /usr/lib/python3/dist-packages (from python-dateutil>=2.7->matplotlib) (1.16.0)\n",
      "\n",
      "\u001b[1m[\u001b[0m\u001b[34;49mnotice\u001b[0m\u001b[1;39;49m]\u001b[0m\u001b[39;49m A new release of pip is available: \u001b[0m\u001b[31;49m23.3.1\u001b[0m\u001b[39;49m -> \u001b[0m\u001b[32;49m23.3.2\u001b[0m\n",
      "\u001b[1m[\u001b[0m\u001b[34;49mnotice\u001b[0m\u001b[1;39;49m]\u001b[0m\u001b[39;49m To update, run: \u001b[0m\u001b[32;49mpython3 -m pip install --upgrade pip\u001b[0m\n"
     ]
    }
   ],
   "source": [
    "! pip install matplotlib"
   ]
  },
  {
   "cell_type": "code",
   "execution_count": 2,
   "id": "58e75bc2-1991-4d96-98af-166b35d7dc56",
   "metadata": {},
   "outputs": [],
   "source": [
    "from pyspark import SparkContext, SQLContext, SparkConf, StorageLevel\n",
    "import numpy\n",
    "from __future__ import division\n",
    "from decimal import Decimal\n",
    "import matplotlib.pyplot as plt; plt.rcdefaults()\n",
    "import numpy as np\n",
    "import matplotlib.pyplot as plt"
   ]
  },
  {
   "cell_type": "code",
   "execution_count": 3,
   "id": "c114dd82-3b25-4c6d-99a4-a2da29101105",
   "metadata": {},
   "outputs": [],
   "source": [
    "\n",
    "SparkContext.getOrCreate().stop()\n",
    "\n",
    "sparkconf = SparkConf().setAppName(\"001\").setMaster(\"local[3]\")\n",
    "sc = SparkContext(conf=sparkconf)"
   ]
  },
  {
   "cell_type": "code",
   "execution_count": 4,
   "id": "09ffb218-9523-47a5-b1e4-eb5589ec50cd",
   "metadata": {},
   "outputs": [],
   "source": [
    "# read csv file with 4 partitions and then repartition to 6\n",
    "survey_df = sc.textFile(\"/home/mutwiri/hadoop/spark/survey.csv\", 4 ).repartition(6)"
   ]
  },
  {
   "cell_type": "code",
   "execution_count": 5,
   "id": "c1e2ec36-916c-4cca-a303-8f588121866a",
   "metadata": {},
   "outputs": [],
   "source": [
    "fields = ( \"year\",  \"industry_name\", \"variable\", \"value\" )\n",
    "from collections import namedtuple\n",
    "Survey = namedtuple('Survey', fields )\n",
    "\n",
    "def looprecs(line):\n",
    "    fields = line.split(\",\")\n",
    "    return Survey(int(fields[0]), fields[1], fields[2], int(fields[3]) )\n",
    "\n",
    "named_survey = survey_df.map(lambda rec: looprecs(rec)  )\n",
    "    "
   ]
  },
  {
   "cell_type": "code",
   "execution_count": 6,
   "id": "1b93af2f-f5a9-43b5-9d6b-3d46e57180ed",
   "metadata": {},
   "outputs": [
    {
     "name": "stderr",
     "output_type": "stream",
     "text": [
      "                                                                                \r"
     ]
    },
    {
     "data": {
      "text/plain": [
       "[Survey(year=2011, industry_name='Agriculture Forestry and Fishing', variable='Rolling mean employees', value=13848),\n",
       " Survey(year=2011, industry_name='Agriculture Forestry and Fishing', variable='Salaries and wages paid', value=467),\n",
       " Survey(year=2011, industry_name='Agriculture Forestry and Fishing', variable='Sales government funding grants and subsidies', value=3060),\n",
       " Survey(year=2011, industry_name='Agriculture Forestry and Fishing', variable='Total income', value=3114),\n",
       " Survey(year=2011, industry_name='Agriculture Forestry and Fishing', variable='Total expenditure', value=2895),\n",
       " Survey(year=2011, industry_name='Agriculture Forestry and Fishing', variable='Activity unit', value=46134),\n",
       " Survey(year=2011, industry_name='Agriculture Forestry and Fishing', variable='Rolling mean employees', value=0),\n",
       " Survey(year=2011, industry_name='Agriculture Forestry and Fishing', variable='Salaries and wages paid', value=279),\n",
       " Survey(year=2011, industry_name='Agriculture Forestry and Fishing', variable='Sales government funding grants and subsidies', value=8187),\n",
       " Survey(year=2011, industry_name='Agriculture Forestry and Fishing', variable='Total income', value=8866)]"
      ]
     },
     "execution_count": 6,
     "metadata": {},
     "output_type": "execute_result"
    }
   ],
   "source": [
    "named_survey.take(10)"
   ]
  },
  {
   "cell_type": "code",
   "execution_count": 7,
   "id": "c923345c-165e-4ed6-aba0-f0690013a18e",
   "metadata": {},
   "outputs": [],
   "source": [
    "most_surveys = named_survey.filter(lambda rec: rec.value > 5000)"
   ]
  },
  {
   "cell_type": "code",
   "execution_count": 8,
   "id": "99e1af8e-2729-4acf-a6bf-de65102be30c",
   "metadata": {},
   "outputs": [
    {
     "data": {
      "text/plain": [
       "[Survey(year=2011, industry_name='Agriculture Forestry and Fishing', variable='Rolling mean employees', value=13848),\n",
       " Survey(year=2011, industry_name='Agriculture Forestry and Fishing', variable='Activity unit', value=46134),\n",
       " Survey(year=2011, industry_name='Agriculture Forestry and Fishing', variable='Sales government funding grants and subsidies', value=8187),\n",
       " Survey(year=2011, industry_name='Agriculture Forestry and Fishing', variable='Total income', value=8866),\n",
       " Survey(year=2011, industry_name='Agriculture Forestry and Fishing', variable='Total expenditure', value=7618),\n",
       " Survey(year=2011, industry_name='Agriculture Forestry and Fishing', variable='Total assets', value=55700),\n",
       " Survey(year=2011, industry_name='Agriculture Forestry and Fishing', variable='Fixed tangible assets', value=32155),\n",
       " Survey(year=2011, industry_name='Agriculture Forestry and Fishing', variable='Activity unit', value=21777),\n",
       " Survey(year=2011, industry_name='Agriculture Forestry and Fishing', variable='Rolling mean employees', value=38136),\n",
       " Survey(year=2011, industry_name='Agriculture Forestry and Fishing', variable='Sales government funding grants and subsidies', value=13359)]"
      ]
     },
     "execution_count": 8,
     "metadata": {},
     "output_type": "execute_result"
    }
   ],
   "source": [
    "most_surveys.take(10)"
   ]
  },
  {
   "cell_type": "code",
   "execution_count": 9,
   "id": "87ee2c6c-b49e-4fe4-86ce-9ab2d5fc043f",
   "metadata": {},
   "outputs": [
    {
     "name": "stderr",
     "output_type": "stream",
     "text": [
      "                                                                                \r"
     ]
    },
    {
     "data": {
      "text/plain": [
       "[('Rolling mean employees', 13848),\n",
       " ('Activity unit', 46134),\n",
       " ('Sales government funding grants and subsidies', 8187),\n",
       " ('Total income', 8866),\n",
       " ('Total expenditure', 7618),\n",
       " ('Total assets', 55700),\n",
       " ('Fixed tangible assets', 32155),\n",
       " ('Activity unit', 21777),\n",
       " ('Rolling mean employees', 38136),\n",
       " ('Sales government funding grants and subsidies', 13359),\n",
       " ('Total income', 13771),\n",
       " ('Total expenditure', 12316),\n",
       " ('Total assets', 52666),\n",
       " ('Fixed tangible assets', 31235)]"
      ]
     },
     "execution_count": 9,
     "metadata": {},
     "output_type": "execute_result"
    }
   ],
   "source": [
    "surveys = most_surveys.map(lambda rec: (rec.variable , rec.value))\n",
    "surveys.collect()\n",
    "    "
   ]
  },
  {
   "cell_type": "code",
   "execution_count": 10,
   "id": "f0518765-a506-43d8-ab3a-cad64cb15cbc",
   "metadata": {},
   "outputs": [
    {
     "name": "stderr",
     "output_type": "stream",
     "text": [
      "                                                                                \r"
     ]
    },
    {
     "data": {
      "text/plain": [
       "[('Rolling mean employees', 51984),\n",
       " ('Total expenditure', 19934),\n",
       " ('Sales government funding grants and subsidies', 21546),\n",
       " ('Total income', 22637),\n",
       " ('Fixed tangible assets', 63390),\n",
       " ('Activity unit', 67911),\n",
       " ('Total assets', 108366)]"
      ]
     },
     "execution_count": 10,
     "metadata": {},
     "output_type": "execute_result"
    }
   ],
   "source": [
    "\n",
    "surveys_red = surveys.reduceByKey(lambda a,b: a+b)\n",
    "\n",
    "surveys_red.take(10)"
   ]
  },
  {
   "cell_type": "code",
   "execution_count": 11,
   "id": "00193cab-16ea-474e-8805-b27d841baa98",
   "metadata": {},
   "outputs": [
    {
     "name": "stderr",
     "output_type": "stream",
     "text": [
      "                                                                                \r"
     ]
    },
    {
     "data": {
      "image/png": "[encoded data removed]",
      "text/plain": [
       "<Figure size 640x480 with 1 Axes>"
      ]
     },
     "metadata": {},
     "output_type": "display_data"
    }
   ],
   "source": [
    "                                 \n",
    "surveys_result = surveys_red.sortBy(lambda rec: rec[-1], ascending=False).collect()\n",
    "list = []\n",
    "list2= []\n",
    "\n",
    "for (a,b) in surveys_result:\n",
    "    list.append(a)\n",
    "    list2.append(b)\n",
    "\n",
    "plt.pie(list2, labels = list)\n",
    "\n",
    "# plt.axis('equal')\n",
    "plt.show()"
   ]
  },
  {
   "cell_type": "code",
   "execution_count": 12,
   "id": "dbdb7983-5e23-43a7-9b56-82c78b9e1d3b",
   "metadata": {},
   "outputs": [],
   "source": [
    "sc.stop()"
   ]
  },
  {
   "cell_type": "code",
   "execution_count": null,
   "id": "3d9b2cca-b707-4977-b0cd-7d0cfede759a",
   "metadata": {},
   "outputs": [],
   "source": []
  }
 ],
 "metadata": {
  "kernelspec": {
   "display_name": "Python 3 (ipykernel)",
   "language": "python",
   "name": "python3"
  },
  "language_info": {
   "codemirror_mode": {
    "name": "ipython",
    "version": 3
   },
   "file_extension": ".py",
   "mimetype": "text/x-python",
   "name": "python",
   "nbconvert_exporter": "python",
   "pygments_lexer": "ipython3",
   "version": "3.10.12"
  }
 },
 "nbformat": 4,
 "nbformat_minor": 5
}
