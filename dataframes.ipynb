{
 "cells": [
  {
   "cell_type": "code",
   "execution_count": 73,
   "id": "cbc8b808-e9b2-4370-8e54-2c9ba9ce4c71",
   "metadata": {},
   "outputs": [],
   "source": [
    "# create df by reading a file\n",
    "df = spark.read.json(\"/home/mutwiri/hadoop/spark/data/package.json\",  multiLine=True)"
   ]
  },
  {
   "cell_type": "code",
   "execution_count": 53,
   "id": "c2670aae-d63d-44c5-8617-4121811a1bf9",
   "metadata": {},
   "outputs": [
    {
     "data": {
      "text/plain": [
       "['description',\n",
       " 'devDependencies',\n",
       " 'homepage',\n",
       " 'license',\n",
       " 'maintainers',\n",
       " 'name',\n",
       " 'peerDependencies',\n",
       " 'repository',\n",
       " 'scripts',\n",
       " 'version']"
      ]
     },
     "execution_count": 53,
     "metadata": {},
     "output_type": "execute_result"
    }
   ],
   "source": [
    "df.columns"
   ]
  },
  {
   "cell_type": "code",
   "execution_count": 67,
   "id": "d0069e3c-0502-4f81-bae9-286c157eb05a",
   "metadata": {},
   "outputs": [
    {
     "name": "stdout",
     "output_type": "stream",
     "text": [
      "+--------------------+---------------+--------------------+-------+--------------------+---------+--------------------+--------------------+------------------+-------+\n",
      "|         description|devDependencies|            homepage|license|         maintainers|     name|    peerDependencies|          repository|           scripts|version|\n",
      "+--------------------+---------------+--------------------+-------+--------------------+---------+--------------------+--------------------+------------------+-------+\n",
      "|Modern, fast Reac...|       {^8.0.1}|https://github.co...|    MIT|[{me@rreverser.co...|acorn-jsx|{^6.0.0 || ^7.0.0...|{git, https://git...|{node test/run.js}|  5.3.2|\n",
      "+--------------------+---------------+--------------------+-------+--------------------+---------+--------------------+--------------------+------------------+-------+\n",
      "\n"
     ]
    }
   ],
   "source": [
    "df.show()"
   ]
  },
  {
   "cell_type": "code",
   "execution_count": 55,
   "id": "d7797659-56b0-4ca7-8fd3-b5ebcf20bd48",
   "metadata": {},
   "outputs": [
    {
     "name": "stdout",
     "output_type": "stream",
     "text": [
      "root\n",
      " |-- description: string (nullable = true)\n",
      " |-- devDependencies: struct (nullable = true)\n",
      " |    |-- acorn: string (nullable = true)\n",
      " |-- homepage: string (nullable = true)\n",
      " |-- license: string (nullable = true)\n",
      " |-- maintainers: array (nullable = true)\n",
      " |    |-- element: struct (containsNull = true)\n",
      " |    |    |-- email: string (nullable = true)\n",
      " |    |    |-- name: string (nullable = true)\n",
      " |    |    |-- web: string (nullable = true)\n",
      " |-- name: string (nullable = true)\n",
      " |-- peerDependencies: struct (nullable = true)\n",
      " |    |-- acorn: string (nullable = true)\n",
      " |-- repository: struct (nullable = true)\n",
      " |    |-- type: string (nullable = true)\n",
      " |    |-- url: string (nullable = true)\n",
      " |-- scripts: struct (nullable = true)\n",
      " |    |-- test: string (nullable = true)\n",
      " |-- version: string (nullable = true)\n",
      "\n"
     ]
    }
   ],
   "source": [
    "df.printSchema()"
   ]
  },
  {
   "cell_type": "code",
   "execution_count": 56,
   "id": "b7879111-73eb-46e4-b220-8070491e5b64",
   "metadata": {},
   "outputs": [
    {
     "data": {
      "text/plain": [
       "DataFrame[summary: string, description: string, homepage: string, license: string, name: string, version: string]"
      ]
     },
     "execution_count": 56,
     "metadata": {},
     "output_type": "execute_result"
    }
   ],
   "source": [
    "df.describe()"
   ]
  },
  {
   "cell_type": "code",
   "execution_count": 57,
   "id": "2acc3aa3-22c2-486c-b2ab-d6e43f750eb6",
   "metadata": {},
   "outputs": [
    {
     "name": "stdout",
     "output_type": "stream",
     "text": [
      "+-------+--------------------+--------------------+-------+---------+-------+\n",
      "|summary|         description|            homepage|license|     name|version|\n",
      "+-------+--------------------+--------------------+-------+---------+-------+\n",
      "|  count|                   1|                   1|      1|        1|      1|\n",
      "|   mean|                NULL|                NULL|   NULL|     NULL|   NULL|\n",
      "| stddev|                NULL|                NULL|   NULL|     NULL|   NULL|\n",
      "|    min|Modern, fast Reac...|https://github.co...|    MIT|acorn-jsx|  5.3.2|\n",
      "|    max|Modern, fast Reac...|https://github.co...|    MIT|acorn-jsx|  5.3.2|\n",
      "+-------+--------------------+--------------------+-------+---------+-------+\n",
      "\n"
     ]
    }
   ],
   "source": [
    "df.describe().show()"
   ]
  },
  {
   "cell_type": "markdown",
   "id": "a1fa7a0c-7721-47e1-bb72-89e3ace9a15d",
   "metadata": {},
   "source": [
    "## Defining Schema"
   ]
  },
  {
   "cell_type": "code",
   "execution_count": 60,
   "id": "95afb12e-0512-4dba-946d-05173b113773",
   "metadata": {},
   "outputs": [],
   "source": [
    "from pyspark.sql.types import StructField, IntegerType, StringType, StructType, ArrayType"
   ]
  },
  {
   "cell_type": "code",
   "execution_count": 64,
   "id": "6e91c4fc-83bd-4354-94bc-2d8cc445b948",
   "metadata": {},
   "outputs": [],
   "source": [
    "main_struct = StructType([\n",
    "    StructField(\"name\", StringType(), True),\n",
    "    StructField(\"description\", StringType(), True),\n",
    "    StructField(\"homepage\", StringType(), True),\n",
    "    StructField(\"version\", StringType(), True),\n",
    "    StructField(\"maintainers\", ArrayType(StructType([\n",
    "        StructField(\"name\", StringType(), True),\n",
    "        StructField(\"email\", StringType(), True ),\n",
    "        StructField(\"web\", StringType(), True )\n",
    "    ])\n",
    "    ) ),\n",
    "    StructField(\"repository\", StructType([\n",
    "        StructField(\"type\", StringType(), True),\n",
    "        StructField(\"url\", StringType(), True )\n",
    "    ]) ),\n",
    "    StructField(\"license\", StringType(), True),\n",
    "    StructField(\"scripts\", StructType([\n",
    "        StructField(\"test\", StringType(), True )\n",
    "    ]) ),\n",
    "    StructField(\"peerDependencies\", StructType([\n",
    "        StructField(\"acorn\", StringType(), True )\n",
    "    ]) ),\n",
    "      StructField(\"devDependencies\", StructType([\n",
    "        StructField(\"acorn\", StringType(), True )\n",
    "    ]) )\n",
    "    \n",
    "    \n",
    "])"
   ]
  },
  {
   "cell_type": "code",
   "execution_count": 77,
   "id": "f339d895-e8ea-4d46-b9cb-945d9a51f208",
   "metadata": {},
   "outputs": [],
   "source": [
    "df2 = spark.read.json(\"/home/mutwiri/hadoop/spark/data/package.json\", multiLine=True, schema=main_struct)"
   ]
  },
  {
   "cell_type": "code",
   "execution_count": 78,
   "id": "3e24752a-698f-479f-a11d-a6475593c00a",
   "metadata": {},
   "outputs": [
    {
     "name": "stdout",
     "output_type": "stream",
     "text": [
      "+---------+--------------------+--------------------+-------+--------------------+--------------------+-------+------------------+--------------------+---------------+\n",
      "|     name|         description|            homepage|version|         maintainers|          repository|license|           scripts|    peerDependencies|devDependencies|\n",
      "+---------+--------------------+--------------------+-------+--------------------+--------------------+-------+------------------+--------------------+---------------+\n",
      "|acorn-jsx|Modern, fast Reac...|https://github.co...|  5.3.2|[{Ingvar Stepanya...|{git, https://git...|    MIT|{node test/run.js}|{^6.0.0 || ^7.0.0...|       {^8.0.1}|\n",
      "+---------+--------------------+--------------------+-------+--------------------+--------------------+-------+------------------+--------------------+---------------+\n",
      "\n"
     ]
    }
   ],
   "source": [
    "df2.show()"
   ]
  },
  {
   "cell_type": "code",
   "execution_count": 79,
   "id": "c2ce0eae-531c-4d29-abe1-c52c870cd816",
   "metadata": {},
   "outputs": [
    {
     "name": "stdout",
     "output_type": "stream",
     "text": [
      "root\n",
      " |-- name: string (nullable = true)\n",
      " |-- description: string (nullable = true)\n",
      " |-- homepage: string (nullable = true)\n",
      " |-- version: string (nullable = true)\n",
      " |-- maintainers: array (nullable = true)\n",
      " |    |-- element: struct (containsNull = true)\n",
      " |    |    |-- name: string (nullable = true)\n",
      " |    |    |-- email: string (nullable = true)\n",
      " |    |    |-- web: string (nullable = true)\n",
      " |-- repository: struct (nullable = true)\n",
      " |    |-- type: string (nullable = true)\n",
      " |    |-- url: string (nullable = true)\n",
      " |-- license: string (nullable = true)\n",
      " |-- scripts: struct (nullable = true)\n",
      " |    |-- test: string (nullable = true)\n",
      " |-- peerDependencies: struct (nullable = true)\n",
      " |    |-- acorn: string (nullable = true)\n",
      " |-- devDependencies: struct (nullable = true)\n",
      " |    |-- acorn: string (nullable = true)\n",
      "\n"
     ]
    }
   ],
   "source": [
    "df2.printSchema()"
   ]
  },
  {
   "cell_type": "markdown",
   "id": "d06d90b2-64ae-4b3c-9de2-7f4da5d1d5ad",
   "metadata": {},
   "source": [
    "## Grabbing Data"
   ]
  },
  {
   "cell_type": "code",
   "execution_count": 80,
   "id": "5dee7988-c0fa-4569-8165-88798bd6f335",
   "metadata": {},
   "outputs": [
    {
     "data": {
      "text/plain": [
       "Row(name='acorn-jsx', description='Modern, fast React.js JSX parser', homepage='https://github.com/acornjs/acorn-jsx', version='5.3.2', maintainers=[Row(name='Ingvar Stepanyan', email='me@rreverser.com', web='http://rreverser.com/')], repository=Row(type='git', url='https://github.com/acornjs/acorn-jsx'), license='MIT', scripts=Row(test='node test/run.js'), peerDependencies=Row(acorn='^6.0.0 || ^7.0.0 || ^8.0.0'), devDependencies=Row(acorn='^8.0.1'))"
      ]
     },
     "execution_count": 80,
     "metadata": {},
     "output_type": "execute_result"
    }
   ],
   "source": [
    "df2.head()"
   ]
  },
  {
   "cell_type": "code",
   "execution_count": 81,
   "id": "a93ef386-d095-4beb-a6d0-05b03a02685b",
   "metadata": {},
   "outputs": [
    {
     "data": {
      "text/plain": [
       "Column<'name'>"
      ]
     },
     "execution_count": 81,
     "metadata": {},
     "output_type": "execute_result"
    }
   ],
   "source": [
    "df[\"name\"]"
   ]
  },
  {
   "cell_type": "code",
   "execution_count": 82,
   "id": "c39208e4-addb-4034-b464-178c7ee1452a",
   "metadata": {},
   "outputs": [
    {
     "data": {
      "text/plain": [
       "pyspark.sql.column.Column"
      ]
     },
     "execution_count": 82,
     "metadata": {},
     "output_type": "execute_result"
    }
   ],
   "source": [
    "type(df[\"name\"])"
   ]
  },
  {
   "cell_type": "code",
   "execution_count": 84,
   "id": "e463b936-90bc-4393-a3c8-1f7c8694bf78",
   "metadata": {},
   "outputs": [
    {
     "name": "stdout",
     "output_type": "stream",
     "text": [
      "+---------+\n",
      "|     name|\n",
      "+---------+\n",
      "|acorn-jsx|\n",
      "+---------+\n",
      "\n"
     ]
    }
   ],
   "source": [
    "df.select(\"name\").show()\n"
   ]
  },
  {
   "cell_type": "code",
   "execution_count": 85,
   "id": "c3624830-8cdb-4f1c-a44f-081d09fb5d47",
   "metadata": {},
   "outputs": [],
   "source": [
    "NAMES = df.select(\"name\")"
   ]
  },
  {
   "cell_type": "code",
   "execution_count": 86,
   "id": "85b648bb-291c-4eda-838f-8a353fc96c1c",
   "metadata": {},
   "outputs": [
    {
     "name": "stdout",
     "output_type": "stream",
     "text": [
      "+---------+--------------------+\n",
      "|     name|         description|\n",
      "+---------+--------------------+\n",
      "|acorn-jsx|Modern, fast Reac...|\n",
      "+---------+--------------------+\n",
      "\n"
     ]
    }
   ],
   "source": [
    "df.select(\"name\", \"description\").show()"
   ]
  },
  {
   "cell_type": "markdown",
   "id": "028a4d17-a821-4c22-8a8f-e25718ef2df0",
   "metadata": {},
   "source": [
    "## Creating new Column"
   ]
  },
  {
   "cell_type": "code",
   "execution_count": 89,
   "id": "778e299f-b129-4905-aebf-65dbfc9f894f",
   "metadata": {},
   "outputs": [
    {
     "name": "stdout",
     "output_type": "stream",
     "text": [
      "+--------------------+---------------+--------------------+-------+--------------------+---------+--------------------+--------------------+------------------+-------+---------+\n",
      "|         description|devDependencies|            homepage|license|         maintainers|     name|    peerDependencies|          repository|           scripts|version| new_name|\n",
      "+--------------------+---------------+--------------------+-------+--------------------+---------+--------------------+--------------------+------------------+-------+---------+\n",
      "|Modern, fast Reac...|       {^8.0.1}|https://github.co...|    MIT|[{me@rreverser.co...|acorn-jsx|{^6.0.0 || ^7.0.0...|{git, https://git...|{node test/run.js}|  5.3.2|acorn-jsx|\n",
      "+--------------------+---------------+--------------------+-------+--------------------+---------+--------------------+--------------------+------------------+-------+---------+\n",
      "\n"
     ]
    }
   ],
   "source": [
    "# By copying existing column\n",
    "\n",
    "df.withColumn(\"new_name\", df[\"name\"]).show()"
   ]
  },
  {
   "cell_type": "code",
   "execution_count": 91,
   "id": "b67ab0cd-e713-483d-93fa-5803580f6c67",
   "metadata": {},
   "outputs": [
    {
     "name": "stdout",
     "output_type": "stream",
     "text": [
      "+--------------------+---------------+--------------------+--------+--------------------+---------+--------------------+--------------------+------------------+-------+\n",
      "|         description|devDependencies|            homepage|licenses|         maintainers|     name|    peerDependencies|          repository|           scripts|version|\n",
      "+--------------------+---------------+--------------------+--------+--------------------+---------+--------------------+--------------------+------------------+-------+\n",
      "|Modern, fast Reac...|       {^8.0.1}|https://github.co...|     MIT|[{me@rreverser.co...|acorn-jsx|{^6.0.0 || ^7.0.0...|{git, https://git...|{node test/run.js}|  5.3.2|\n",
      "+--------------------+---------------+--------------------+--------+--------------------+---------+--------------------+--------------------+------------------+-------+\n",
      "\n"
     ]
    }
   ],
   "source": [
    "# rename a column\n",
    "df.withColumnRenamed(\"license\", \"licenses\").show()"
   ]
  },
  {
   "cell_type": "code",
   "execution_count": null,
   "id": "4c7878e7-8b0b-41df-a673-76006f4995f8",
   "metadata": {},
   "outputs": [],
   "source": [
    "df.withColumn(\"double_age\", df[\"age\"]*2).show()"
   ]
  },
  {
   "cell_type": "code",
   "execution_count": 103,
   "id": "5b091a11-ebf3-49e7-bd9e-ec4054c85498",
   "metadata": {},
   "outputs": [],
   "source": [
    "df.createOrReplaceTempView(\"react_project\")"
   ]
  },
  {
   "cell_type": "code",
   "execution_count": 107,
   "id": "0448a984-9cae-48be-9753-9a6e50d96922",
   "metadata": {},
   "outputs": [],
   "source": [
    "results = spark.sql(\"select * from react_project\")"
   ]
  },
  {
   "cell_type": "code",
   "execution_count": 108,
   "id": "007f3fd6-d068-411f-bcbd-5fe87ef0e686",
   "metadata": {},
   "outputs": [
    {
     "name": "stdout",
     "output_type": "stream",
     "text": [
      "+--------------------+---------------+--------------------+-------+--------------------+---------+--------------------+--------------------+------------------+-------+\n",
      "|         description|devDependencies|            homepage|license|         maintainers|     name|    peerDependencies|          repository|           scripts|version|\n",
      "+--------------------+---------------+--------------------+-------+--------------------+---------+--------------------+--------------------+------------------+-------+\n",
      "|Modern, fast Reac...|       {^8.0.1}|https://github.co...|    MIT|[{me@rreverser.co...|acorn-jsx|{^6.0.0 || ^7.0.0...|{git, https://git...|{node test/run.js}|  5.3.2|\n",
      "+--------------------+---------------+--------------------+-------+--------------------+---------+--------------------+--------------------+------------------+-------+\n",
      "\n"
     ]
    }
   ],
   "source": [
    "results.show()"
   ]
  },
  {
   "cell_type": "code",
   "execution_count": 109,
   "id": "3bf4a099-0889-4de5-a261-1714a6535979",
   "metadata": {},
   "outputs": [
    {
     "name": "stderr",
     "output_type": "stream",
     "text": [
      "24/01/04 06:56:51 WARN HiveConf: HiveConf of name hive.stats.jdbc.timeout does not exist\n",
      "24/01/04 06:56:51 WARN HiveConf: HiveConf of name hive.stats.retries.wait does not exist\n",
      "24/01/04 06:57:16 WARN ObjectStore: Version information not found in metastore. hive.metastore.schema.verification is not enabled so recording the schema version 2.3.0\n",
      "24/01/04 06:57:16 WARN ObjectStore: setMetaStoreSchemaVersion called but recording version is disabled: version = 2.3.0, comment = Set by MetaStore mutwiri@127.0.1.1\n",
      "24/01/04 06:57:16 WARN ObjectStore: Failed to get database default, returning NoSuchObjectException\n",
      "24/01/04 06:57:22 WARN SessionState: METASTORE_FILTER_HOOK will be ignored, since hive.security.authorization.manager is set to instance of HiveAuthorizerFactory.\n",
      "24/01/04 06:57:22 WARN HiveConf: HiveConf of name hive.internal.ss.authz.settings.applied.marker does not exist\n",
      "24/01/04 06:57:22 WARN HiveConf: HiveConf of name hive.stats.jdbc.timeout does not exist\n",
      "24/01/04 06:57:22 WARN HiveConf: HiveConf of name hive.stats.retries.wait does not exist\n",
      "24/01/04 06:57:23 WARN ObjectStore: Failed to get database global_temp, returning NoSuchObjectException\n"
     ]
    }
   ],
   "source": [
    "df.write.saveAsTable(\"react\", mode=\"overwrite\")\n"
   ]
  },
  {
   "cell_type": "markdown",
   "id": "3a08d791-0cb2-4874-912f-7d7d148489a0",
   "metadata": {},
   "source": [
    "## Create Dataframe from rdd "
   ]
  },
  {
   "cell_type": "code",
   "execution_count": 124,
   "id": "753a4dfd-fef8-4eb9-820a-c8814ca76c9c",
   "metadata": {},
   "outputs": [],
   "source": [
    "text = sc.textFile(\"/home/mutwiri/hadoop/spark/data/stack.txt\", 2)"
   ]
  },
  {
   "cell_type": "code",
   "execution_count": 125,
   "id": "5c8607cd-abc5-4bbb-9dc7-5fd5e9e26c1e",
   "metadata": {},
   "outputs": [
    {
     "data": {
      "text/plain": [
       "['ABSA BigDataDataEngineer Hadoop',\n",
       " 'KOKO CLoudDataEngineer AWS',\n",
       " 'DATASEAL DataArchitect Azure']"
      ]
     },
     "execution_count": 125,
     "metadata": {},
     "output_type": "execute_result"
    }
   ],
   "source": [
    "text.collect()"
   ]
  },
  {
   "cell_type": "code",
   "execution_count": 126,
   "id": "c562179c-4648-4cf5-b19b-605e77ef46d0",
   "metadata": {},
   "outputs": [],
   "source": [
    "parts = text.map(lambda line: line.split(\" \"))"
   ]
  },
  {
   "cell_type": "code",
   "execution_count": 129,
   "id": "96342587-c183-4711-85a2-7cc765e4613b",
   "metadata": {},
   "outputs": [
    {
     "data": {
      "text/plain": [
       "[['KOKO', 'CLoudDataEngineer', 'AWS'], ['DATASEAL', 'DataArchitect', 'Azure']]"
      ]
     },
     "execution_count": 129,
     "metadata": {},
     "output_type": "execute_result"
    }
   ],
   "source": [
    "parts.top(2)"
   ]
  },
  {
   "cell_type": "code",
   "execution_count": 138,
   "id": "5520c233-47d2-49a7-8ca8-23d743a50956",
   "metadata": {},
   "outputs": [],
   "source": [
    "from pyspark.sql import Row"
   ]
  },
  {
   "cell_type": "code",
   "execution_count": 139,
   "id": "36a310da-ccad-4fed-9e48-16fa8b76b5d0",
   "metadata": {},
   "outputs": [],
   "source": [
    "companies = parts.map(lambda p: Row( company=p[0], role=p[1], platform=p[2] ) )"
   ]
  },
  {
   "cell_type": "code",
   "execution_count": 140,
   "id": "6e6f5e7e-d3e6-4efa-8f7f-ced4055cef39",
   "metadata": {},
   "outputs": [
    {
     "data": {
      "text/plain": [
       "[Row(company='KOKO', role='CLoudDataEngineer', platform='AWS'),\n",
       " Row(company='DATASEAL', role='DataArchitect', platform='Azure')]"
      ]
     },
     "execution_count": 140,
     "metadata": {},
     "output_type": "execute_result"
    }
   ],
   "source": [
    "companies.top(2)"
   ]
  },
  {
   "cell_type": "code",
   "execution_count": 141,
   "id": "f18800f6-4770-4b1f-82ad-ab02d7292746",
   "metadata": {},
   "outputs": [],
   "source": [
    "df3 = spark.createDataFrame(companies)"
   ]
  },
  {
   "cell_type": "code",
   "execution_count": 143,
   "id": "44539194-6bc6-4fb8-bab3-19e2df4c2001",
   "metadata": {},
   "outputs": [
    {
     "name": "stdout",
     "output_type": "stream",
     "text": [
      "+--------+-------------------+--------+\n",
      "| company|               role|platform|\n",
      "+--------+-------------------+--------+\n",
      "|    ABSA|BigDataDataEngineer|  Hadoop|\n",
      "|    KOKO|  CLoudDataEngineer|     AWS|\n",
      "|DATASEAL|      DataArchitect|   Azure|\n",
      "+--------+-------------------+--------+\n",
      "\n"
     ]
    }
   ],
   "source": [
    "df3.show()"
   ]
  },
  {
   "cell_type": "code",
   "execution_count": 145,
   "id": "14230c84-e741-40b8-a796-5cd08bac9add",
   "metadata": {},
   "outputs": [],
   "source": [
    "df3.createOrReplaceTempView(\"comps\")"
   ]
  },
  {
   "cell_type": "code",
   "execution_count": 149,
   "id": "4c926009-b433-4302-8976-709deff5f0a3",
   "metadata": {},
   "outputs": [],
   "source": [
    "all_companies = spark.sql(\"select company from comps\")"
   ]
  },
  {
   "cell_type": "code",
   "execution_count": 150,
   "id": "51b03d6e-c166-489f-af68-5912c49d70bc",
   "metadata": {},
   "outputs": [
    {
     "name": "stdout",
     "output_type": "stream",
     "text": [
      "+--------+\n",
      "| company|\n",
      "+--------+\n",
      "|    ABSA|\n",
      "|    KOKO|\n",
      "|DATASEAL|\n",
      "+--------+\n",
      "\n"
     ]
    }
   ],
   "source": [
    "all_companies.show()"
   ]
  },
  {
   "cell_type": "code",
   "execution_count": 153,
   "id": "cea661e6-9ba0-4be5-986c-00d79ba83811",
   "metadata": {},
   "outputs": [],
   "source": [
    "all_comps = all_companies.rdd.map(lambda p: \"name  \" +p.company )"
   ]
  },
  {
   "cell_type": "code",
   "execution_count": 155,
   "id": "b03797de-1fad-4aad-98c6-940d89091668",
   "metadata": {},
   "outputs": [
    {
     "name": "stderr",
     "output_type": "stream",
     "text": [
      "                                                                                \r"
     ]
    },
    {
     "data": {
      "text/plain": [
       "['name  ABSA', 'name  KOKO', 'name  DATASEAL']"
      ]
     },
     "execution_count": 155,
     "metadata": {},
     "output_type": "execute_result"
    }
   ],
   "source": [
    "all_comps.collect()"
   ]
  },
  {
   "cell_type": "markdown",
   "id": "69a7c488-e189-408c-b036-facfb6f71af3",
   "metadata": {},
   "source": [
    "#### Using Struct to make a dataset from a rdd"
   ]
  },
  {
   "cell_type": "code",
   "execution_count": 166,
   "id": "2b2498fb-0426-4536-aced-03a278ff96f6",
   "metadata": {},
   "outputs": [],
   "source": [
    "text = sc.textFile(\"/home/mutwiri/hadoop/spark/data/stack.txt\")"
   ]
  },
  {
   "cell_type": "code",
   "execution_count": 167,
   "id": "1bfb4eeb-b7cd-45a6-ae4a-2726dbba21f1",
   "metadata": {},
   "outputs": [],
   "source": [
    "companies = text.map(lambda p: p.split())"
   ]
  },
  {
   "cell_type": "code",
   "execution_count": 168,
   "id": "d7c76cf2-7b4e-4ea0-b85f-a130b470368d",
   "metadata": {},
   "outputs": [
    {
     "data": {
      "text/plain": [
       "[['ABSA', 'BigDataDataEngineer', 'Hadoop'],\n",
       " ['KOKO', 'CLoudDataEngineer', 'AWS']]"
      ]
     },
     "execution_count": 168,
     "metadata": {},
     "output_type": "execute_result"
    }
   ],
   "source": [
    "companies.take(2)"
   ]
  },
  {
   "cell_type": "code",
   "execution_count": 172,
   "id": "5353af7d-7dbd-4a15-aed6-55ead5d5976d",
   "metadata": {},
   "outputs": [],
   "source": [
    "# convering each row to a tuple\n",
    "companies_rdd = companies.map(lambda p: (p[0], p[1], p[2]))"
   ]
  },
  {
   "cell_type": "code",
   "execution_count": 173,
   "id": "67d5eb42-5721-4ae7-8296-c0a88d45d34f",
   "metadata": {},
   "outputs": [
    {
     "data": {
      "text/plain": [
       "[('ABSA', 'BigDataDataEngineer', 'Hadoop'),\n",
       " ('KOKO', 'CLoudDataEngineer', 'AWS')]"
      ]
     },
     "execution_count": 173,
     "metadata": {},
     "output_type": "execute_result"
    }
   ],
   "source": [
    "companies_rdd.take(2)"
   ]
  },
  {
   "cell_type": "code",
   "execution_count": 175,
   "id": "4b1b9d4d-141b-4961-8768-fc2cc4d1a467",
   "metadata": {},
   "outputs": [],
   "source": [
    "schema = StructType([\n",
    "    StructField(\"name\", StringType(), True),\n",
    "    StructField(\"Role\", StringType(), True),\n",
    "    StructField(\"Stack\", StringType(), True)\n",
    "])"
   ]
  },
  {
   "cell_type": "code",
   "execution_count": 181,
   "id": "e560ec19-c71d-4beb-b461-ee1c63f17ea6",
   "metadata": {},
   "outputs": [],
   "source": [
    "companies_df = spark.createDataFrame(companies_rdd, schema)"
   ]
  },
  {
   "cell_type": "code",
   "execution_count": 182,
   "id": "42c54bfd-e624-4a98-8ac6-5986dd645a68",
   "metadata": {},
   "outputs": [
    {
     "name": "stdout",
     "output_type": "stream",
     "text": [
      "+--------+-------------------+------+\n",
      "|    name|               Role| Stack|\n",
      "+--------+-------------------+------+\n",
      "|    ABSA|BigDataDataEngineer|Hadoop|\n",
      "|    KOKO|  CLoudDataEngineer|   AWS|\n",
      "|DATASEAL|      DataArchitect| Azure|\n",
      "+--------+-------------------+------+\n",
      "\n"
     ]
    }
   ],
   "source": [
    "companies_df.show()"
   ]
  },
  {
   "cell_type": "code",
   "execution_count": null,
   "id": "f4ad835a-2886-442f-a1b7-b7aa344abdce",
   "metadata": {},
   "outputs": [],
   "source": []
  },
  {
   "cell_type": "code",
   "execution_count": null,
   "id": "ba6981c9-eed4-49ea-abe2-31d420863aa3",
   "metadata": {},
   "outputs": [],
   "source": []
  },
  {
   "cell_type": "code",
   "execution_count": null,
   "id": "abd2e23f-3f61-4a3a-8b42-68e5b7e927ab",
   "metadata": {},
   "outputs": [],
   "source": []
  },
  {
   "cell_type": "code",
   "execution_count": null,
   "id": "5884b350-efed-4968-af2a-63805a4df374",
   "metadata": {},
   "outputs": [],
   "source": []
  },
  {
   "cell_type": "code",
   "execution_count": null,
   "id": "b6a32fec-4bc2-4eb1-a03a-b7ec7af752d2",
   "metadata": {},
   "outputs": [],
   "source": []
  },
  {
   "cell_type": "code",
   "execution_count": null,
   "id": "f84f68f6-9f8e-4e02-9b80-18e1b23c38a3",
   "metadata": {},
   "outputs": [],
   "source": []
  },
  {
   "cell_type": "code",
   "execution_count": null,
   "id": "ff144886-cc40-4e3e-b9b6-34e33a69e2a0",
   "metadata": {},
   "outputs": [],
   "source": []
  },
  {
   "cell_type": "code",
   "execution_count": null,
   "id": "01a4853c-c720-47f8-b5e0-1ed332634476",
   "metadata": {},
   "outputs": [],
   "source": []
  },
  {
   "cell_type": "code",
   "execution_count": null,
   "id": "a3cb0ab9-7167-4143-9317-c784fa8d9b5a",
   "metadata": {},
   "outputs": [],
   "source": []
  },
  {
   "cell_type": "code",
   "execution_count": null,
   "id": "c603a66c-a630-41b2-b16d-66be8a0974bd",
   "metadata": {},
   "outputs": [],
   "source": []
  },
  {
   "cell_type": "code",
   "execution_count": null,
   "id": "706e723c-6e6c-4e7c-8116-31f80b9e5aa3",
   "metadata": {},
   "outputs": [],
   "source": []
  },
  {
   "cell_type": "code",
   "execution_count": null,
   "id": "524b8f93-582b-47c8-9b40-791171aad875",
   "metadata": {},
   "outputs": [],
   "source": []
  },
  {
   "cell_type": "code",
   "execution_count": null,
   "id": "6bc5c5f7-7bf5-428e-b396-5759dd8ef309",
   "metadata": {},
   "outputs": [],
   "source": []
  },
  {
   "cell_type": "code",
   "execution_count": null,
   "id": "6ee2e0ed-9116-4701-846f-77dd3a235941",
   "metadata": {},
   "outputs": [],
   "source": []
  },
  {
   "cell_type": "code",
   "execution_count": null,
   "id": "9a32d259-45c5-48f5-b812-001d8d0b444b",
   "metadata": {},
   "outputs": [],
   "source": []
  },
  {
   "cell_type": "code",
   "execution_count": null,
   "id": "67df08a9-8ab7-4371-942f-1d97873fa6cb",
   "metadata": {},
   "outputs": [],
   "source": []
  }
 ],
 "metadata": {
  "kernelspec": {
   "display_name": "Python 3 (ipykernel)",
   "language": "python",
   "name": "python3"
  },
  "language_info": {
   "codemirror_mode": {
    "name": "ipython",
    "version": 3
   },
   "file_extension": ".py",
   "mimetype": "text/x-python",
   "name": "python",
   "nbconvert_exporter": "python",
   "pygments_lexer": "ipython3",
   "version": "3.10.12"
  }
 },
 "nbformat": 4,
 "nbformat_minor": 5
}
